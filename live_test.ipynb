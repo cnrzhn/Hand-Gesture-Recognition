{
 "cells": [
  {
   "cell_type": "markdown",
   "metadata": {},
   "source": [
    "# 1. Import and Install Dependencies"
   ]
  },
  {
   "cell_type": "code",
   "execution_count": null,
   "metadata": {},
   "outputs": [],
   "source": [
    "!pip install tensorflow opencv-python mediapipe scikit-learn "
   ]
  },
  {
   "cell_type": "code",
   "execution_count": null,
   "metadata": {},
   "outputs": [],
   "source": [
    "import os\n",
    "import cv2\n",
    "import numpy as np\n",
    "import mediapipe as mp"
   ]
  },
  {
   "cell_type": "markdown",
   "metadata": {},
   "source": [
    "# 2. Keypoints using MP Holistic\n",
    "\n",
    "Initialize MediaPipe Holistic model and drawing utilities"
   ]
  },
  {
   "cell_type": "code",
   "execution_count": null,
   "metadata": {},
   "outputs": [],
   "source": [
    "# 'mp_holistic' provides the holistic model which includes face, pose, and hand landmarks detection.\n",
    "mp_holistic = mp.solutions.holistic\n",
    "\n",
    "# 'mp_drawing' provides utility functions for drawing the detected landmarks on images.\n",
    "mp_drawing = mp.solutions.drawing_utils"
   ]
  },
  {
   "cell_type": "code",
   "execution_count": null,
   "metadata": {},
   "outputs": [],
   "source": [
    "# Function to perform MediaPipe detection on an image\n",
    "def mediapipe_detection(image, model):\n",
    "    # Convert the image from BGR to RGB color space.\n",
    "    image = cv2.cvtColor(image, cv2.COLOR_BGR2RGB)\n",
    "    \n",
    "    # Mark the image as not writable to improve performance by preventing unnecessary data copying.\n",
    "    image.flags.writeable = False \n",
    "    \n",
    "    # Process the image using the provided model to detect landmarks.\n",
    "    results = model.process(image)\n",
    "    \n",
    "    # Mark the image as writable again for further operations.\n",
    "    image.flags.writeable = True\n",
    "    \n",
    "    # Convert the image back from RGB to BGR color space.\n",
    "    image = cv2.cvtColor(image, cv2.COLOR_RGB2BGR)\n",
    "    \n",
    "    # Return the processed image and the detection results.\n",
    "    return image, results"
   ]
  },
  {
   "cell_type": "code",
   "execution_count": null,
   "metadata": {},
   "outputs": [],
   "source": [
    "# Function to draw landmarks on an image based on the detection results\n",
    "def draw_landmarks(image, results):\n",
    "    # If face landmarks are detected, draw them on the image.\n",
    "    if results.face_landmarks:\n",
    "        mp_drawing.draw_landmarks(image, results.face_landmarks, mp_holistic.FACEMESH_CONTOURS)\n",
    "    \n",
    "    # If pose landmarks are detected, draw them on the image.\n",
    "    if results.pose_landmarks:\n",
    "        mp_drawing.draw_landmarks(image, results.pose_landmarks, mp_holistic.POSE_CONNECTIONS)\n",
    "    \n",
    "    # If left hand landmarks are detected, draw them on the image.\n",
    "    if results.left_hand_landmarks:\n",
    "        mp_drawing.draw_landmarks(image, results.left_hand_landmarks, mp_holistic.HAND_CONNECTIONS)\n",
    "    \n",
    "    # If right hand landmarks are detected, draw them on the image.\n",
    "    if results.right_hand_landmarks:\n",
    "        mp_drawing.draw_landmarks(image, results.right_hand_landmarks, mp_holistic.HAND_CONNECTIONS)\n"
   ]
  },
  {
   "cell_type": "markdown",
   "metadata": {},
   "source": [
    "# 3. Extract Keypoint Values"
   ]
  },
  {
   "cell_type": "code",
   "execution_count": null,
   "metadata": {},
   "outputs": [],
   "source": [
    "# Function to extract keypoint values from the MediaPipe detection results\n",
    "def extract_keypoints(results):\n",
    "    # Extract pose landmarks (if available) and flatten the list.\n",
    "    # Each landmark includes x, y, z coordinates and visibility.\n",
    "    # If pose landmarks are not available, return an array of zeros with the same length.\n",
    "    pose = np.array([[res.x, res.y, res.z, res.visibility] for res in results.pose_landmarks.landmark]).flatten() if results.pose_landmarks else np.zeros(33*4)\n",
    "    \n",
    "    # Extract face landmarks (if available) and flatten the list.\n",
    "    # Each landmark includes x, y, z coordinates.\n",
    "    # If face landmarks are not available, return an array of zeros with the same length.\n",
    "    face = np.array([[res.x, res.y, res.z] for res in results.face_landmarks.landmark]).flatten() if results.face_landmarks else np.zeros(468*3)\n",
    "    \n",
    "    # Extract left hand landmarks (if available) and flatten the list.\n",
    "    # Each landmark includes x, y, z coordinates.\n",
    "    # If left hand landmarks are not available, return an array of zeros with the same length.\n",
    "    lh = np.array([[res.x, res.y, res.z] for res in results.left_hand_landmarks.landmark]).flatten() if results.left_hand_landmarks else np.zeros(21*3)\n",
    "    \n",
    "    # Extract right hand landmarks (if available) and flatten the list.\n",
    "    # Each landmark includes x, y, z coordinates.\n",
    "    # If right hand landmarks are not available, return an array of zeros with the same length.\n",
    "    rh = np.array([[res.x, res.y, res.z] for res in results.right_hand_landmarks.landmark]).flatten() if results.right_hand_landmarks else np.zeros(21*3)\n",
    "    \n",
    "    # Concatenate all the extracted keypoints (pose, face, left hand, right hand) into a single array.\n",
    "    return np.concatenate([pose, face, lh, rh])"
   ]
  },
  {
   "cell_type": "markdown",
   "metadata": {},
   "source": [
    "# 4. Define Actions"
   ]
  },
  {
   "cell_type": "code",
   "execution_count": null,
   "metadata": {},
   "outputs": [],
   "source": [
    "# Define the list of actions to be collected (e.g., 'one', 'two', 'three')\n",
    "actions = np.array(['one', 'two', 'three'])"
   ]
  },
  {
   "cell_type": "markdown",
   "metadata": {},
   "source": [
    "# 5. Define and Load the Model"
   ]
  },
  {
   "cell_type": "code",
   "execution_count": null,
   "metadata": {},
   "outputs": [],
   "source": [
    "# Import necessary modules from Keras.\n",
    "from keras.models import Sequential\n",
    "from keras.layers import LSTM, Dense\n",
    "from keras.callbacks import TensorBoard"
   ]
  },
  {
   "cell_type": "code",
   "execution_count": null,
   "metadata": {},
   "outputs": [],
   "source": [
    "# Define the directory to store the TensorBoard logs.\n",
    "log_dir = os.path.join('logs')\n",
    "\n",
    "# Create a TensorBoard callback object to log training information.\n",
    "tb_callback = TensorBoard(log_dir=log_dir)\n",
    "\n",
    "# Initialize a sequential model. This type of model is appropriate for a plain stack of layers where each layer has exactly one input tensor and one output tensor.\n",
    "model = Sequential()\n",
    "\n",
    "# Add an LSTM (Long Short-Term Memory) layer with 64 units. \n",
    "# return_sequences=True ensures that the output of this layer is a sequence.\n",
    "# activation='relu' specifies the ReLU activation function.\n",
    "# input_shape=(30,1662) defines the shape of the input data (30 time steps and 1662 features).\n",
    "model.add(LSTM(64, return_sequences=True, activation='relu', input_shape=(30, 1662)))\n",
    "\n",
    "# Add another LSTM layer with 128 units, also returning sequences.\n",
    "model.add(LSTM(128, return_sequences=True, activation='relu'))\n",
    "\n",
    "# Add a third LSTM layer with 64 units, not returning sequences (only the output of the last time step).\n",
    "model.add(LSTM(64, return_sequences=False, activation='relu'))\n",
    "\n",
    "# Add a Dense (fully connected) layer with 64 units and ReLU activation.\n",
    "model.add(Dense(64, activation='relu'))\n",
    "\n",
    "# Add another Dense layer with 32 units and ReLU activation.\n",
    "model.add(Dense(32, activation='relu'))\n",
    "\n",
    "# Add the output Dense layer with a number of units equal to the number of actions (3 in this case: 'hello', 'thanks', 'iloveyou').\n",
    "# The softmax activation function is used to get a probability distribution over the actions.\n",
    "model.add(Dense(actions.shape[0], activation='softmax'))"
   ]
  },
  {
   "cell_type": "code",
   "execution_count": null,
   "metadata": {},
   "outputs": [],
   "source": [
    "# Load pre-trained weights into the model from a file named 'collection.h5'.\n",
    "model.load_weights('model.h5')"
   ]
  },
  {
   "cell_type": "markdown",
   "metadata": {},
   "source": [
    "# 6. Test in Real Time"
   ]
  },
  {
   "cell_type": "code",
   "execution_count": null,
   "metadata": {},
   "outputs": [],
   "source": [
    "# Defining colors for the probability visualization.\n",
    "colors = [(245,117,16), (117,245,16), (16,117,245)]\n",
    "\n",
    "# Function to visualize the probabilities of each action.\n",
    "def prob_viz(res, actions, input_frame, colors):\n",
    "    output_frame = input_frame.copy()\n",
    "    for num, prob in enumerate(res):\n",
    "        cv2.rectangle(output_frame, (0,60+num*40), (int(prob*100), 90+num*40), colors[num], -1)\n",
    "        cv2.putText(output_frame, actions[num], (0, 85+num*40), cv2.FONT_HERSHEY_SIMPLEX, 1, (255,255,255), 2, cv2.LINE_AA)\n",
    "    return output_frame"
   ]
  },
  {
   "cell_type": "code",
   "execution_count": null,
   "metadata": {},
   "outputs": [],
   "source": [
    "# Initialize variables for storing the sequence of keypoints, the predicted sentence, and model predictions.\n",
    "sequence = []\n",
    "sentence = []\n",
    "predictions = []\n",
    "threshold = 0.5  # Confidence threshold for action detection."
   ]
  },
  {
   "cell_type": "code",
   "execution_count": null,
   "metadata": {},
   "outputs": [],
   "source": [
    "# Open a connection to the webcam (usually 0 or 1 depending on the camera index).\n",
    "cap = cv2.VideoCapture(1)\n",
    "\n",
    "# Using the holistic model from MediaPipe with specified confidence thresholds for detection and tracking.\n",
    "with mp_holistic.Holistic(min_detection_confidence=0.5, min_tracking_confidence=0.5) as holistic:\n",
    "    while cap.isOpened():\n",
    "        # Read a frame from the webcam.\n",
    "        ret, frame = cap.read()\n",
    "\n",
    "        # Perform MediaPipe detection on the frame to get landmarks.\n",
    "        image, results = mediapipe_detection(frame, holistic)\n",
    "        print(results)  # Print the results for debugging.\n",
    "\n",
    "        # Draw the landmarks on the image.\n",
    "        draw_landmarks(image, results)\n",
    "\n",
    "        # Extract keypoints from the results and append to the sequence.\n",
    "        keypoints = extract_keypoints(results)\n",
    "        sequence.append(keypoints)\n",
    "        sequence = sequence[-30:]  # Keep only the last 30 frames in the sequence.\n",
    "\n",
    "        # Once we have a sequence of 30 frames, make a prediction.\n",
    "        if len(sequence) == 30:\n",
    "            res = model.predict(np.expand_dims(sequence, axis=0))[0]\n",
    "            print(actions[np.argmax(res)])  # Print the predicted action for debugging.\n",
    "            predictions.append(np.argmax(res))\n",
    "\n",
    "            # Check if the prediction is consistent over the last 10 frames and above the confidence threshold.\n",
    "            if np.unique(predictions[-10:])[0] == np.argmax(res):\n",
    "                if res[np.argmax(res)] > threshold:\n",
    "                    if len(sentence) > 0:\n",
    "                        if actions[np.argmax(res)] != sentence[-1]:\n",
    "                            sentence.append(actions[np.argmax(res)])\n",
    "                    else:\n",
    "                        sentence.append(actions[np.argmax(res)])\n",
    "\n",
    "            # Limit the sentence length to the last 5 actions.\n",
    "            if len(sentence) > 5:\n",
    "                sentence = sentence[-5:]\n",
    "\n",
    "            # Visualize the probabilities of the predictions.\n",
    "            image = prob_viz(res, actions, image, colors)\n",
    "\n",
    "        # Draw a rectangle and the current sentence on the image.\n",
    "        cv2.rectangle(image, (0, 0), (640, 40), (245, 117, 16), -1)\n",
    "        cv2.putText(image, ' '.join(sentence), (3, 30), \n",
    "                    cv2.FONT_HERSHEY_SIMPLEX, 1, (255, 255, 255), 2, cv2.LINE_AA)\n",
    "\n",
    "        # Display the image.\n",
    "        cv2.imshow('OpenCV Feed', image)\n",
    "\n",
    "        # Break the loop if 'q' is pressed.\n",
    "        if cv2.waitKey(10) & 0xFF == ord('q'):\n",
    "            break\n",
    "\n",
    "    # Release the webcam and close all OpenCV windows.\n",
    "    cap.release()\n",
    "    cv2.destroyAllWindows()\n"
   ]
  },
  {
   "cell_type": "code",
   "execution_count": null,
   "metadata": {},
   "outputs": [],
   "source": [
    "cv2.waitKey(1)\n",
    "cv2.waitKey(1)\n",
    "cap.release()\n",
    "cv2.destroyAllWindows()"
   ]
  }
 ],
 "metadata": {
  "kernelspec": {
   "display_name": ".venv",
   "language": "python",
   "name": "python3"
  },
  "language_info": {
   "codemirror_mode": {
    "name": "ipython",
    "version": 3
   },
   "file_extension": ".py",
   "mimetype": "text/x-python",
   "name": "python",
   "nbconvert_exporter": "python",
   "pygments_lexer": "ipython3",
   "version": "3.12.2"
  }
 },
 "nbformat": 4,
 "nbformat_minor": 2
}
